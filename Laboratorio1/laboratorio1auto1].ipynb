{
  "cells": [
    {
      "cell_type": "markdown",
      "metadata": {
        "id": "RG2if9sRrjs8"
      },
      "source": [
        "Estudiantes:\n",
        "* Mateo Bedoya\n",
        "\n",
        "* Valeria\n",
        "\n",
        "* Juan Pablo"
      ]
    },
    {
      "cell_type": "markdown",
      "metadata": {
        "id": "S9_B2CmesebN"
      },
      "source": [
        "a. Investigue como definir funciones en Python usando “def”, describa un breve ejemplo."
      ]
    },
    {
      "cell_type": "markdown",
      "metadata": {
        "id": "xnFfa6D2sQF8"
      },
      "source": [
        "*def es una palabra clave que se utiliza para definir una nueva función. Una función es un bloque de código reutilizable que realiza una tarea específica. La sintaxis básica de def incluye el nombre de la función, parámetros opcionales entre paréntesis, y el cuerpo de la función.\n",
        "\n",
        "*Uso: \n",
        "\n",
        "*Reutilización de código: Permite escribir un bloque de código una vez y usarlo múltiples veces.\n",
        "*Modularidad: Ayuda a organizar el código en bloques lógicos y funcionales, lo que facilita la lectura y el mantenimiento.\n",
        "*Simplificación: Evita tener que escribir el mismo código repetidamente, haciendo el programa más eficiente.\n",
        "\n",
        "*Componentes de la definición\n",
        "\n",
        "*def: La palabra clave que inicia la definición de la función. \n",
        "\n",
        "*nombre_de_la_funcion: El nombre que le das a tu función, debe ser único y descriptivo. \n",
        "\n",
        "*(): Los paréntesis que encierran los parámetros opcionales de la función. \n",
        "\n",
        "*:: Los dos puntos que marcan el final de la línea de definición.\n",
        "\n",
        "*Cuerpo de la función: El código indentado debajo de la línea def que contiene las instrucciones que la función ejecutará. \n",
        "\n",
        "*return: La sentencia (opcional) que especifica el valor que la función devolverá después de su ejecución."
      ]
    },
    {
      "cell_type": "code",
      "execution_count": 6,
      "metadata": {
        "colab": {
          "base_uri": "https://localhost:8080/"
        },
        "id": "t7yAsEkwsRPE",
        "outputId": "c179a089-edfb-4459-80e1-a0da09b3c892"
      },
      "outputs": [
        {
          "name": "stdout",
          "output_type": "stream",
          "text": [
            "La suma es: 8\n"
          ]
        }
      ],
      "source": [
        "def sumar(n1, n2):\n",
        "    suma = n1 + n2\n",
        "    return suma\n",
        "resultado = sumar(3, 5)\n",
        "print(\"La suma es:\", resultado)"
      ]
    },
    {
      "cell_type": "markdown",
      "metadata": {
        "id": "W0uV4_I_slk1"
      },
      "source": [
        "b. Desarrolle una calculadora básica usando funciones, en la cual ingresen 2 números enteros y el tipo de operación a realizar en string. Como resultado la calculadora debe arrojar la operación deseada entre los 2 números."
      ]
    },
    {
      "cell_type": "code",
      "execution_count": 2,
      "metadata": {
        "id": "iZ8SlI4_smkt"
      },
      "outputs": [
        {
          "name": "stdout",
          "output_type": "stream",
          "text": [
            "el resultado es: \n",
            "9\n"
          ]
        }
      ],
      "source": [
        "def resultado(n1,n2,operacion):\n",
        "  if(operacion==\"+\"):\n",
        "    print(\"el resultado es: \")\n",
        "    print(n1+n2)\n",
        "  elif(operacion==\"-\"):\n",
        "    print(\"el resultado es: \")\n",
        "    print(n1+n2)\n",
        "  elif(operacion==\"/\" and n2!=0):\n",
        "     print(\"el resultado es: \")\n",
        "     print(n1/n2)\n",
        "  elif(operacion==\"*\"):\n",
        "     print(\"el resultado es: \")\n",
        "     print(n1*n2)\n",
        "  elif(operacion==\"%\"):\n",
        "     print(\"el resultado es: \")\n",
        "     print(n1%n2)\n",
        "  elif(n2==0):\n",
        "    print(\"El segundo numero debe de ser diferente de cero para realizar una división\")\n",
        "operacion=str(input(\"Ingrese la operacion: +,-,/,%,* :\"))\n",
        "n1=int(input(\"ingrese un numero: \"))\n",
        "n2=int(input(\"ingrese un numero: \"))\n",
        "resultado(n1,n2,operacion)\n",
        "\n",
        "\n"
      ]
    },
    {
      "cell_type": "markdown",
      "metadata": {
        "id": "iGtBCQIxsvex"
      },
      "source": [
        "c. Desarrolle un algoritmo en el cual usted pueda definir el tamaño de una matriz cuadrada con\n",
        "un numero N, posteriormente le pida cada uno de los valores de la matriz con la indicación\n",
        "exacta de donde ira ubicado. Finalmente, el algoritmo debe retornar al usuario la matriz\n",
        "deseada y su transpuesta."
      ]
    },
    {
      "cell_type": "code",
      "execution_count": null,
      "metadata": {
        "colab": {
          "base_uri": "https://localhost:8080/"
        },
        "id": "pGGrjyums5lW",
        "outputId": "571bdd5f-0d82-407d-dfc0-243590249af9"
      },
      "outputs": [
        {
          "name": "stdout",
          "output_type": "stream",
          "text": [
            "\n",
            "Matriz original:\n",
            "[2, 5, 4]\n",
            "[3, 5, 2]\n",
            "[6, 1, 5]\n",
            "\n",
            "Transpuesta:\n",
            "[2, 3, 6]\n",
            "[5, 5, 1]\n",
            "[4, 2, 5]\n"
          ]
        }
      ],
      "source": [
        "S= int(input(\"Ingrese el tamaño de la matriz\"))\n",
        "\n",
        "matriz=[]\n",
        "\n",
        "for i in range(S):\n",
        "    fila=[]\n",
        "    for j in range(S):\n",
        "        a=int(input(f'ingrese el valor para la posicion para la fila {i+1} y de la columna {j+1}'))\n",
        "        fila.append(a)\n",
        "\n",
        "    matriz.append(fila)\n",
        "\n",
        "print(\"\\nMatriz original:\")\n",
        "for fila in matriz:\n",
        "    print(fila)\n",
        "\n",
        "\n",
        "transpuesta = []\n",
        "for j in range(S):\n",
        "    fila_T = []\n",
        "    for i in range(S):\n",
        "        fila_T.append(matriz[i][j])\n",
        "    transpuesta.append(fila_T)\n",
        "\n",
        "print(\"\\nTranspuesta:\")\n",
        "for fila_T in transpuesta:\n",
        "    print(fila_T)\n"
      ]
    },
    {
      "cell_type": "markdown",
      "metadata": {
        "id": "4ENUWQyis95n"
      },
      "source": [
        "d. Desarrolle un algoritmo que reciba un mes y día especifico, y nos dé una aproximación para esa\n",
        "fecha sobre la estación climática en la cual estamos.\n",
        "\n",
        "Considere los casos imposibles (30 de febrero, 31 de noviembre…entre otros…) para especificar el error o\n",
        "ajustar la fecha"
      ]
    },
    {
      "cell_type": "code",
      "execution_count": null,
      "metadata": {
        "colab": {
          "base_uri": "https://localhost:8080/"
        },
        "id": "PAwzArO4vqKq",
        "outputId": "3d67ceeb-1a16-4cbd-d793-e575a106d6dc"
      },
      "outputs": [
        {
          "name": "stdout",
          "output_type": "stream",
          "text": [
            "Ingrese el mes (1-12): 2\n",
            "Ingrese el día (1-31): 29\n",
            "Estación climática: Invierno\n"
          ]
        }
      ],
      "source": [
        "meses = {\n",
        "    \"enero\": 1, \"febrero\": 2, \"marzo\": 3,\n",
        "    \"abril\": 4, \"mayo\": 5, \"junio\": 6,\n",
        "    \"julio\": 7, \"agosto\": 8, \"septiembre\": 9,\n",
        "    \"octubre\": 10, \"noviembre\": 11, \"diciembre\": 12\n",
        "}\n",
        "\n",
        "\n",
        "dias_por_mes = {\n",
        "    \"enero\": 31, \"febrero\": 28, \"marzo\": 31, \"abril\": 30,\n",
        "    \"mayo\": 31, \"junio\": 30, \"julio\": 31, \"agosto\": 31,\n",
        "    \"septiembre\": 30, \"octubre\": 31, \"noviembre\": 30, \"diciembre\": 31\n",
        "}\n",
        "\n",
        "\n",
        "\n",
        "def obtener_estacion(mes, dia):\n",
        "    if (mes == \"diciembre\" and dia >= 21) or mes in [\"enero\", \"febrero\"] or (mes == \"marzo\" and dia < 21):\n",
        "        return \"invierno\"\n",
        "    elif (mes == \"marzo\" and dia >= 21) or mes in [\"abril\", \"mayo\"] or (mes == \"junio\" and dia < 21):\n",
        "        return \"primavera\"\n",
        "    elif (mes == \"junio\" and dia >= 21) or mes in [\"julio\", \"agosto\"] or (mes == \"septiembre\" and dia < 21):\n",
        "        return \"verano\"\n",
        "    elif (mes == \"septiembre\" and dia >= 21) or mes in [\"octubre\", \"noviembre\"] or (mes == \"diciembre\" and dia < 21):\n",
        "        return \"otoño\"\n",
        "    else:\n",
        "        return \"fecha inválida\"\n",
        "\n",
        "mes = input(\"Ingrese el nombre del mes: \").lower()\n",
        "dia = int(input(\"Ingrese el día que desea consultar: \"))\n",
        "\n",
        "if mes in dias_por_mes:\n",
        "    if 1 <= dia <= dias_por_mes[mes]:\n",
        "        estacion = obtener_estacion(mes, dia)\n",
        "        print(f\"Para el día {dia} del mes {mes} estaríamos en {estacion}\")\n",
        "    else:\n",
        "        print(f\"Error: El mes {mes} no tiene {dia} días.\")\n",
        "else:\n",
        "    print(\"Error: Mes inválido.\")\n",
        "\n",
        "\n"
      ]
    },
    {
      "cell_type": "markdown",
      "metadata": {
        "id": "8tkwQ2lCtKBG"
      },
      "source": [
        "e. Desarrolle un algoritmo que sea capaz de sumar una matriz aleatoria con una matriz ingresada\n",
        "por el usuario\n"
      ]
    },
    {
      "cell_type": "code",
      "execution_count": null,
      "metadata": {
        "id": "fuYja9VJtTvm"
      },
      "outputs": [
        {
          "name": "stdout",
          "output_type": "stream",
          "text": [
            "\n",
            "Matriz del usuario:\n",
            "[1, 3]\n",
            "[4, 2]\n",
            "\n",
            "Matriz aleatoria:\n",
            "[3, 3]\n",
            "[5, 8]\n",
            "\n",
            "Suma de las matrices:\n",
            "[4, 6]\n",
            "[9, 10]\n"
          ]
        }
      ],
      "source": [
        "\n",
        "import random\n",
        "\n",
        "S = int(input(\"Ingrese el tamaño de la matriz: \"))\n",
        "\n",
        "\n",
        "matriz_usuario = []\n",
        "for i in range(S):\n",
        "    fila = []\n",
        "    for j in range(S):\n",
        "        valor = int(input(f'ingrese el valor para la posicion para la fila {i+1} y de la columna {j+1}'))\n",
        "        fila.append(valor)\n",
        "    matriz_usuario.append(fila)\n",
        "\n",
        "\n",
        "matriz_random = []\n",
        "for i in range(S):\n",
        "    fila = []\n",
        "    for j in range(S):\n",
        "        fila.append(random.randint(0, 9))\n",
        "    matriz_random.append(fila)\n",
        "\n",
        "\n",
        "matriz_suma = []\n",
        "for i in range(S):\n",
        "    fila = []\n",
        "    for j in range(S):\n",
        "        suma = matriz_usuario[i][j] + matriz_random[i][j]\n",
        "        fila.append(suma)\n",
        "    matriz_suma.append(fila)\n",
        "\n",
        "print(\"\\nMatriz del usuario:\")\n",
        "for fila in matriz_usuario:\n",
        "    print(fila)\n",
        "\n",
        "print(\"\\nMatriz aleatoria:\")\n",
        "for fila in matriz_random:\n",
        "    print(fila)\n",
        "\n",
        "print(\"\\nSuma de las matrices:\")\n",
        "for fila in matriz_suma:\n",
        "    print(fila)\n",
        "\n"
      ]
    },
    {
      "cell_type": "markdown",
      "metadata": {},
      "source": [
        "f. Una empresa de comercio electrónico necesita un programa en Python que procese reseñas de clientes.\n",
        "\n",
        "El programa debe:\n",
        "\n",
        "Pedir al usuario que ingrese varias reseñas de productos (mínimo 3).\n",
        "Convertir todas las reseñas a minúsculas y eliminar signos de puntuación básicos (., ! ?).\n",
        "Guardar cada reseña en una lista.\n",
        "Crear un diccionario de frecuencias que indique cuántas veces aparece cada palabra en todas las reseñas combinadas.\n",
        "Identificar y mostrar:\n",
        "Las 3 palabras más frecuentes en las reseñas."
      ]
    },
    {
      "cell_type": "code",
      "execution_count": null,
      "metadata": {},
      "outputs": [],
      "source": [
        "\n",
        "n_resenas=0\n",
        "continuar=1\n",
        "lista_resenas=[]\n",
        "print(\"Bienvenido, al momento de hacer las reseñas se le solicitara al menos hacer 3, de lo contrario no lo dejara continuar\")\n",
        "while continuar==1:\n",
        "  if n_resenas>=3:\n",
        "    continuar = input(\"Ya alcanzo el numero minimo de reseñas, si desea agregar otra reseña ingrese un 1: \")\n",
        "    continuar=int(continuar)\n",
        "  if continuar==1:\n",
        "    resena=input(\"Ingrese su reseña: \")\n",
        "    resena=resena.lower()\n",
        "    for signo in [\".\", \",\", \"!\", \"?\", \"¡\", \"¿\", \";\", \":\" , \"(\", \")\", \":\" , \";\"]:\n",
        "      resena = resena.replace(signo, \"\")\n",
        "    lista_resenas.append(resena)\n",
        "    n_resenas+=1\n",
        "  else:\n",
        "    continuar=0\n",
        "palabras = \" \".join(lista_resenas).split()\n",
        "frecuencias = {}\n",
        "for p in palabras:\n",
        "    frecuencias[p] = frecuencias.get(p, 0) + 1\n",
        "print(\"\\nLas 3 palabras más frecuentes son:\")\n",
        "temp = frecuencias.copy()\n",
        "for i in range(3):\n",
        "    palabra = max(temp, key=temp.get)\n",
        "    print(f\"{palabra}: {temp[palabra]} veces\")\n",
        "    del temp[palabra]\n",
        "print(\"Las reseñas son: \" ,lista_resenas)\n",
        "print(\"Las palabras usadas y la cantidad de veces usadas son:\",frecuencias)\n"
      ]
    },
    {
      "cell_type": "markdown",
      "metadata": {},
      "source": []
    }
  ],
  "metadata": {
    "colab": {
      "provenance": []
    },
    "kernelspec": {
      "display_name": "Python 3",
      "name": "python3"
    },
    "language_info": {
      "codemirror_mode": {
        "name": "ipython",
        "version": 3
      },
      "file_extension": ".py",
      "mimetype": "text/x-python",
      "name": "python",
      "nbconvert_exporter": "python",
      "pygments_lexer": "ipython3",
      "version": "3.11.9"
    }
  },
  "nbformat": 4,
  "nbformat_minor": 0
}
